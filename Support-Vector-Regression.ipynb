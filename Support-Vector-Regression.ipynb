{
 "cells": [
  {
   "cell_type": "markdown",
   "id": "ef5fd3e7",
   "metadata": {},
   "source": [
    "# Support Vector Regression (SVR)"
   ]
  },
  {
   "cell_type": "markdown",
   "id": "722e081d",
   "metadata": {},
   "source": [
    "### importing Libraries"
   ]
  },
  {
   "cell_type": "code",
   "execution_count": 30,
   "id": "fa2610b7",
   "metadata": {},
   "outputs": [],
   "source": [
    "import pandas as pd\n",
    "import matplotlib.pyplot as plt\n",
    "import numpy as np"
   ]
  },
  {
   "cell_type": "markdown",
   "id": "bba399d4",
   "metadata": {},
   "source": [
    "### Importing Datasets"
   ]
  },
  {
   "cell_type": "code",
   "execution_count": 31,
   "id": "58ba75a5",
   "metadata": {},
   "outputs": [],
   "source": [
    "data = pd.read_csv('Position_Salaries.csv')"
   ]
  },
  {
   "cell_type": "code",
   "execution_count": 32,
   "id": "794401bd",
   "metadata": {},
   "outputs": [
    {
     "data": {
      "text/html": [
       "<div>\n",
       "<style scoped>\n",
       "    .dataframe tbody tr th:only-of-type {\n",
       "        vertical-align: middle;\n",
       "    }\n",
       "\n",
       "    .dataframe tbody tr th {\n",
       "        vertical-align: top;\n",
       "    }\n",
       "\n",
       "    .dataframe thead th {\n",
       "        text-align: right;\n",
       "    }\n",
       "</style>\n",
       "<table border=\"1\" class=\"dataframe\">\n",
       "  <thead>\n",
       "    <tr style=\"text-align: right;\">\n",
       "      <th></th>\n",
       "      <th>Position</th>\n",
       "      <th>Level</th>\n",
       "      <th>Salary</th>\n",
       "    </tr>\n",
       "  </thead>\n",
       "  <tbody>\n",
       "    <tr>\n",
       "      <th>0</th>\n",
       "      <td>Business Analyst</td>\n",
       "      <td>1</td>\n",
       "      <td>45000</td>\n",
       "    </tr>\n",
       "    <tr>\n",
       "      <th>1</th>\n",
       "      <td>Junior Consultant</td>\n",
       "      <td>2</td>\n",
       "      <td>50000</td>\n",
       "    </tr>\n",
       "    <tr>\n",
       "      <th>2</th>\n",
       "      <td>Senior Consultant</td>\n",
       "      <td>3</td>\n",
       "      <td>60000</td>\n",
       "    </tr>\n",
       "    <tr>\n",
       "      <th>3</th>\n",
       "      <td>Manager</td>\n",
       "      <td>4</td>\n",
       "      <td>80000</td>\n",
       "    </tr>\n",
       "    <tr>\n",
       "      <th>4</th>\n",
       "      <td>Country Manager</td>\n",
       "      <td>5</td>\n",
       "      <td>110000</td>\n",
       "    </tr>\n",
       "    <tr>\n",
       "      <th>5</th>\n",
       "      <td>Region Manager</td>\n",
       "      <td>6</td>\n",
       "      <td>150000</td>\n",
       "    </tr>\n",
       "    <tr>\n",
       "      <th>6</th>\n",
       "      <td>Partner</td>\n",
       "      <td>7</td>\n",
       "      <td>200000</td>\n",
       "    </tr>\n",
       "    <tr>\n",
       "      <th>7</th>\n",
       "      <td>Senior Partner</td>\n",
       "      <td>8</td>\n",
       "      <td>300000</td>\n",
       "    </tr>\n",
       "    <tr>\n",
       "      <th>8</th>\n",
       "      <td>C-level</td>\n",
       "      <td>9</td>\n",
       "      <td>500000</td>\n",
       "    </tr>\n",
       "    <tr>\n",
       "      <th>9</th>\n",
       "      <td>CEO</td>\n",
       "      <td>10</td>\n",
       "      <td>1000000</td>\n",
       "    </tr>\n",
       "  </tbody>\n",
       "</table>\n",
       "</div>"
      ],
      "text/plain": [
       "            Position  Level   Salary\n",
       "0   Business Analyst      1    45000\n",
       "1  Junior Consultant      2    50000\n",
       "2  Senior Consultant      3    60000\n",
       "3            Manager      4    80000\n",
       "4    Country Manager      5   110000\n",
       "5     Region Manager      6   150000\n",
       "6            Partner      7   200000\n",
       "7     Senior Partner      8   300000\n",
       "8            C-level      9   500000\n",
       "9                CEO     10  1000000"
      ]
     },
     "execution_count": 32,
     "metadata": {},
     "output_type": "execute_result"
    }
   ],
   "source": [
    "data"
   ]
  },
  {
   "cell_type": "markdown",
   "id": "09d3fdd7",
   "metadata": {},
   "source": [
    "### Checking Missing Data"
   ]
  },
  {
   "cell_type": "code",
   "execution_count": 33,
   "id": "eeaa436f",
   "metadata": {},
   "outputs": [
    {
     "data": {
      "text/plain": [
       "False"
      ]
     },
     "execution_count": 33,
     "metadata": {},
     "output_type": "execute_result"
    }
   ],
   "source": [
    "data.isnull().values.any()"
   ]
  },
  {
   "cell_type": "markdown",
   "id": "638fe3cc",
   "metadata": {},
   "source": [
    "### Getting our dependent and independent variables"
   ]
  },
  {
   "cell_type": "code",
   "execution_count": 34,
   "id": "6a32ce23",
   "metadata": {},
   "outputs": [],
   "source": [
    "x = data.iloc[:, 1:-1].values\n",
    "y = data.iloc[:, -1].values"
   ]
  },
  {
   "cell_type": "code",
   "execution_count": 35,
   "id": "ac418223",
   "metadata": {},
   "outputs": [
    {
     "name": "stdout",
     "output_type": "stream",
     "text": [
      "[[ 1]\n",
      " [ 2]\n",
      " [ 3]\n",
      " [ 4]\n",
      " [ 5]\n",
      " [ 6]\n",
      " [ 7]\n",
      " [ 8]\n",
      " [ 9]\n",
      " [10]]\n"
     ]
    }
   ],
   "source": [
    "print(x)"
   ]
  },
  {
   "cell_type": "code",
   "execution_count": 36,
   "id": "22ff038d",
   "metadata": {},
   "outputs": [
    {
     "data": {
      "text/plain": [
       "array([  45000,   50000,   60000,   80000,  110000,  150000,  200000,\n",
       "        300000,  500000, 1000000])"
      ]
     },
     "execution_count": 36,
     "metadata": {},
     "output_type": "execute_result"
    }
   ],
   "source": [
    "y"
   ]
  },
  {
   "cell_type": "markdown",
   "id": "97395eca",
   "metadata": {},
   "source": [
    "### Reshape the dependent variable as Feature Scaling would want the format"
   ]
  },
  {
   "cell_type": "code",
   "execution_count": 37,
   "id": "fc716ce9",
   "metadata": {},
   "outputs": [],
   "source": [
    "y = y.reshape(len(y), 1)"
   ]
  },
  {
   "cell_type": "code",
   "execution_count": 38,
   "id": "56acfecf",
   "metadata": {},
   "outputs": [
    {
     "name": "stdout",
     "output_type": "stream",
     "text": [
      "[[  45000]\n",
      " [  50000]\n",
      " [  60000]\n",
      " [  80000]\n",
      " [ 110000]\n",
      " [ 150000]\n",
      " [ 200000]\n",
      " [ 300000]\n",
      " [ 500000]\n",
      " [1000000]]\n"
     ]
    }
   ],
   "source": [
    "print(y)"
   ]
  },
  {
   "cell_type": "markdown",
   "id": "f5379164",
   "metadata": {},
   "source": [
    "### Features Scaling\n",
    "**It is required we scale the dependent variables also because its not in zeros and Ones and there are no explicit equations for SVR**"
   ]
  },
  {
   "cell_type": "code",
   "execution_count": 39,
   "id": "57151cc9",
   "metadata": {},
   "outputs": [],
   "source": [
    "from sklearn.preprocessing import StandardScaler\n",
    "sc_x = StandardScaler()\n",
    "sc_y = StandardScaler()\n",
    "x = sc_x.fit_transform(x)\n",
    "y = sc_y.fit_transform(y)"
   ]
  },
  {
   "cell_type": "code",
   "execution_count": 40,
   "id": "2e15c87b",
   "metadata": {},
   "outputs": [
    {
     "name": "stdout",
     "output_type": "stream",
     "text": [
      "[[-1.5666989 ]\n",
      " [-1.21854359]\n",
      " [-0.87038828]\n",
      " [-0.52223297]\n",
      " [-0.17407766]\n",
      " [ 0.17407766]\n",
      " [ 0.52223297]\n",
      " [ 0.87038828]\n",
      " [ 1.21854359]\n",
      " [ 1.5666989 ]]\n"
     ]
    }
   ],
   "source": [
    "print(x)"
   ]
  },
  {
   "cell_type": "code",
   "execution_count": 41,
   "id": "dd2fe6f5",
   "metadata": {},
   "outputs": [
    {
     "name": "stdout",
     "output_type": "stream",
     "text": [
      "[[-0.72004253]\n",
      " [-0.70243757]\n",
      " [-0.66722767]\n",
      " [-0.59680786]\n",
      " [-0.49117815]\n",
      " [-0.35033854]\n",
      " [-0.17428902]\n",
      " [ 0.17781001]\n",
      " [ 0.88200808]\n",
      " [ 2.64250325]]\n"
     ]
    }
   ],
   "source": [
    "print(y)"
   ]
  },
  {
   "cell_type": "markdown",
   "id": "6c1a5cc7",
   "metadata": {},
   "source": [
    "### Applying the SVR model from the SVM Module"
   ]
  },
  {
   "cell_type": "code",
   "execution_count": 42,
   "id": "784f0724",
   "metadata": {},
   "outputs": [
    {
     "name": "stderr",
     "output_type": "stream",
     "text": [
      "/home/leke/anaconda3/lib/python3.9/site-packages/sklearn/utils/validation.py:993: DataConversionWarning: A column-vector y was passed when a 1d array was expected. Please change the shape of y to (n_samples, ), for example using ravel().\n",
      "  y = column_or_1d(y, warn=True)\n"
     ]
    },
    {
     "data": {
      "text/plain": [
       "SVR()"
      ]
     },
     "execution_count": 42,
     "metadata": {},
     "output_type": "execute_result"
    }
   ],
   "source": [
    "from sklearn.svm import SVR\n",
    "regressor = SVR(kernel ='rbf')\n",
    "regressor.fit(x, y)"
   ]
  },
  {
   "cell_type": "markdown",
   "id": "ea030003",
   "metadata": {},
   "source": [
    "### Print the new result (6.5) by the model"
   ]
  },
  {
   "cell_type": "code",
   "execution_count": 43,
   "id": "31cb5f85",
   "metadata": {},
   "outputs": [
    {
     "data": {
      "text/plain": [
       "array([[-0.6197853 ],\n",
       "       [-0.62924694],\n",
       "       [-0.56788994],\n",
       "       [-0.49732233],\n",
       "       [-0.44690338],\n",
       "       [-0.36617206],\n",
       "       [-0.14115569],\n",
       "       [ 0.28557658],\n",
       "       [ 0.78226531],\n",
       "       [ 1.08559794]])"
      ]
     },
     "execution_count": 43,
     "metadata": {},
     "output_type": "execute_result"
    }
   ],
   "source": [
    "regressor.predict(x).reshape(len(x), 1)"
   ]
  },
  {
   "cell_type": "code",
   "execution_count": 44,
   "id": "1037a142",
   "metadata": {},
   "outputs": [
    {
     "data": {
      "text/plain": [
       "array([[ 73474.15615697],\n",
       "       [ 70786.94584626],\n",
       "       [ 88213.00902103],\n",
       "       [108254.98574956],\n",
       "       [122574.52250599],\n",
       "       [145503.10688572],\n",
       "       [209410.23132923],\n",
       "       [330606.89204569],\n",
       "       [471671.95587315],\n",
       "       [557821.75899897]])"
      ]
     },
     "execution_count": 44,
     "metadata": {},
     "output_type": "execute_result"
    }
   ],
   "source": [
    "sc_y.inverse_transform(regressor.predict(x).reshape(len(x), 1))"
   ]
  },
  {
   "cell_type": "code",
   "execution_count": 45,
   "id": "9535e372",
   "metadata": {},
   "outputs": [],
   "source": [
    "#sc_y.inverse_transform(regressor.predict(sc_x.transform([[6.5]])))\n",
    "\n",
    "A = regressor.predict(sc_x.transform([[6.5]]))\n",
    "A = A.reshape(-1, 1)"
   ]
  },
  {
   "cell_type": "code",
   "execution_count": 46,
   "id": "e68f7a82",
   "metadata": {},
   "outputs": [
    {
     "data": {
      "text/plain": [
       "array([[170370.0204065]])"
      ]
     },
     "execution_count": 46,
     "metadata": {},
     "output_type": "execute_result"
    }
   ],
   "source": [
    "sc_y.inverse_transform(A)"
   ]
  },
  {
   "cell_type": "code",
   "execution_count": 47,
   "id": "d208c4de",
   "metadata": {},
   "outputs": [
    {
     "name": "stdout",
     "output_type": "stream",
     "text": [
      "[[-0.72004253]\n",
      " [-0.70243757]\n",
      " [-0.66722767]\n",
      " [-0.59680786]\n",
      " [-0.49117815]\n",
      " [-0.35033854]\n",
      " [-0.17428902]\n",
      " [ 0.17781001]\n",
      " [ 0.88200808]\n",
      " [ 2.64250325]]\n"
     ]
    }
   ],
   "source": [
    "print(y)"
   ]
  },
  {
   "cell_type": "code",
   "execution_count": 48,
   "id": "892c6b2f",
   "metadata": {},
   "outputs": [
    {
     "name": "stdout",
     "output_type": "stream",
     "text": [
      "[[-1.5666989 ]\n",
      " [-1.21854359]\n",
      " [-0.87038828]\n",
      " [-0.52223297]\n",
      " [-0.17407766]\n",
      " [ 0.17407766]\n",
      " [ 0.52223297]\n",
      " [ 0.87038828]\n",
      " [ 1.21854359]\n",
      " [ 1.5666989 ]]\n"
     ]
    }
   ],
   "source": [
    "print(x)"
   ]
  },
  {
   "cell_type": "markdown",
   "id": "f207dee2",
   "metadata": {},
   "source": [
    "### Observing the regression Curve"
   ]
  },
  {
   "cell_type": "code",
   "execution_count": 49,
   "id": "eac59fd6",
   "metadata": {},
   "outputs": [
    {
     "data": {
      "text/plain": [
       "[<matplotlib.lines.Line2D at 0x7ff7bcce43a0>]"
      ]
     },
     "execution_count": 49,
     "metadata": {},
     "output_type": "execute_result"
    },
    {
     "data": {
      "image/png": "[encoded data removed]",
      "text/plain": [
       "<Figure size 432x288 with 1 Axes>"
      ]
     },
     "metadata": {
      "needs_background": "light"
     },
     "output_type": "display_data"
    }
   ],
   "source": [
    "plt.scatter(sc_x.inverse_transform(x), sc_y.inverse_transform(y), color = 'red')\n",
    "plt.plot(sc_x.inverse_transform(x), sc_y.inverse_transform(regressor.predict(x).reshape(len(x), 1)))"
   ]
  },
  {
   "cell_type": "markdown",
   "id": "e71433bd",
   "metadata": {},
   "source": [
    "### Visualizing the Model result for higer resolution and smoother curve"
   ]
  },
  {
   "cell_type": "code",
   "execution_count": 50,
   "id": "1c980e8e",
   "metadata": {},
   "outputs": [],
   "source": [
    "x_grid = np.arange(min(sc_x.inverse_transform(x)), max(sc_x.inverse_transform(x)), 0.1)"
   ]
  },
  {
   "cell_type": "code",
   "execution_count": 51,
   "id": "0f4c5250",
   "metadata": {},
   "outputs": [],
   "source": [
    "x_grid = x_grid.reshape(len(x_grid), 1)"
   ]
  },
  {
   "cell_type": "code",
   "execution_count": 52,
   "id": "2fee6d46",
   "metadata": {
    "scrolled": true
   },
   "outputs": [
    {
     "data": {
      "text/plain": [
       "array([[-0.6197853 ],\n",
       "       [-0.62525029],\n",
       "       [-0.62965521],\n",
       "       [-0.63300802],\n",
       "       [-0.63532454],\n",
       "       [-0.63662807],\n",
       "       [-0.63694918],\n",
       "       [-0.63632519],\n",
       "       [-0.63479971],\n",
       "       [-0.63242213],\n",
       "       [-0.62924694],\n",
       "       [-0.62533311],\n",
       "       [-0.62074342],\n",
       "       [-0.61554369],\n",
       "       [-0.60980206],\n",
       "       [-0.60358823],\n",
       "       [-0.59697272],\n",
       "       [-0.59002609],\n",
       "       [-0.58281818],\n",
       "       [-0.57541738],\n",
       "       [-0.56788994],\n",
       "       [-0.56029919],\n",
       "       [-0.55270493],\n",
       "       [-0.54516272],\n",
       "       [-0.53772326],\n",
       "       [-0.53043178],\n",
       "       [-0.52332744],\n",
       "       [-0.51644279],\n",
       "       [-0.50980324],\n",
       "       [-0.50342653],\n",
       "       [-0.49732233],\n",
       "       [-0.49149176],\n",
       "       [-0.48592702],\n",
       "       [-0.4806111 ],\n",
       "       [-0.47551745],\n",
       "       [-0.47060983],\n",
       "       [-0.46584212],\n",
       "       [-0.46115831],\n",
       "       [-0.45649253],\n",
       "       [-0.45176923],\n",
       "       [-0.44690338],\n",
       "       [-0.44180094],\n",
       "       [-0.43635935],\n",
       "       [-0.43046818],\n",
       "       [-0.42401003],\n",
       "       [-0.41686141],\n",
       "       [-0.40889394],\n",
       "       [-0.39997561],\n",
       "       [-0.38997221],\n",
       "       [-0.37874894],\n",
       "       [-0.36617206],\n",
       "       [-0.35211075],\n",
       "       [-0.33643903],\n",
       "       [-0.31903772],\n",
       "       [-0.29979649],\n",
       "       [-0.27861589],\n",
       "       [-0.25540944],\n",
       "       [-0.23010552],\n",
       "       [-0.20264935],\n",
       "       [-0.17300474],\n",
       "       [-0.14115569],\n",
       "       [-0.10710785],\n",
       "       [-0.07088969],\n",
       "       [-0.03255344],\n",
       "       [ 0.00782423],\n",
       "       [ 0.05014191],\n",
       "       [ 0.09427342],\n",
       "       [ 0.14006817],\n",
       "       [ 0.18735182],\n",
       "       [ 0.23592739],\n",
       "       [ 0.28557658],\n",
       "       [ 0.33606162],\n",
       "       [ 0.38712726],\n",
       "       [ 0.43850318],\n",
       "       [ 0.48990663],\n",
       "       [ 0.54104529],\n",
       "       [ 0.59162039],\n",
       "       [ 0.64132987],\n",
       "       [ 0.68987174],\n",
       "       [ 0.73694747],\n",
       "       [ 0.78226531],\n",
       "       [ 0.82554365],\n",
       "       [ 0.86651422],\n",
       "       [ 0.90492511],\n",
       "       [ 0.94054365],\n",
       "       [ 0.973159  ],\n",
       "       [ 1.00258443],\n",
       "       [ 1.02865934],\n",
       "       [ 1.05125085],\n",
       "       [ 1.07025506]])"
      ]
     },
     "execution_count": 52,
     "metadata": {},
     "output_type": "execute_result"
    }
   ],
   "source": [
    "#regressor.predict(sc_x.transform(x_grid).reshape(len(x_grid), 1))\n",
    "x_grid_pred_reshape = regressor.predict(sc_x.transform(x_grid))\n",
    "x_grid_pred_reshape = x_grid_pred_reshape.reshape(len(x_grid_pred_reshape), 1)\n",
    "x_grid_pred_reshape"
   ]
  },
  {
   "cell_type": "code",
   "execution_count": 53,
   "id": "55dfcddf",
   "metadata": {},
   "outputs": [
    {
     "data": {
      "text/plain": [
       "[<matplotlib.lines.Line2D at 0x7ff7bcc4b7c0>]"
      ]
     },
     "execution_count": 53,
     "metadata": {},
     "output_type": "execute_result"
    },
    {
     "data": {
      "image/png": "[encoded data removed]",
      "text/plain": [
       "<Figure size 432x288 with 1 Axes>"
      ]
     },
     "metadata": {
      "needs_background": "light"
     },
     "output_type": "display_data"
    }
   ],
   "source": [
    "x_grid = x_grid.reshape((len(x_grid), 1))\n",
    "plt.scatter(sc_x.inverse_transform(x), sc_y.inverse_transform(y), color = 'red')\n",
    "plt.plot(x_grid, sc_y.inverse_transform(x_grid_pred_reshape))"
   ]
  },
  {
   "cell_type": "markdown",
   "id": "b0b7bd5c",
   "metadata": {},
   "source": [
    "### Rregression Model Selection"
   ]
  },
  {
   "cell_type": "code",
   "execution_count": 54,
   "id": "83708ae9",
   "metadata": {},
   "outputs": [
    {
     "data": {
      "text/plain": [
       "array([[-0.72004253],\n",
       "       [-0.70243757],\n",
       "       [-0.66722767],\n",
       "       [-0.59680786],\n",
       "       [-0.49117815],\n",
       "       [-0.35033854],\n",
       "       [-0.17428902],\n",
       "       [ 0.17781001],\n",
       "       [ 0.88200808],\n",
       "       [ 2.64250325]])"
      ]
     },
     "execution_count": 54,
     "metadata": {},
     "output_type": "execute_result"
    }
   ],
   "source": [
    "y"
   ]
  },
  {
   "cell_type": "markdown",
   "id": "b3013392",
   "metadata": {},
   "source": [
    "### Calculating for how well the Model learns the relationship of the data using the r2_score class from the sklearn.metrics module from sklearn api"
   ]
  },
  {
   "cell_type": "code",
   "execution_count": 56,
   "id": "b44c3e9d",
   "metadata": {},
   "outputs": [
    {
     "data": {
      "text/plain": [
       "0.7516001070620798"
      ]
     },
     "execution_count": 56,
     "metadata": {},
     "output_type": "execute_result"
    }
   ],
   "source": [
    "from sklearn.metrics import r2_score\n",
    "r2_score(sc_y.inverse_transform(y),sc_y.inverse_transform(regressor.predict(x).reshape(len(x), 1)))"
   ]
  },
  {
   "cell_type": "code",
   "execution_count": null,
   "id": "a0b39da5",
   "metadata": {},
   "outputs": [],
   "source": []
  }
 ],
 "metadata": {
  "kernelspec": {
   "display_name": "Python 3 (ipykernel)",
   "language": "python",
   "name": "python3"
  },
  "language_info": {
   "codemirror_mode": {
    "name": "ipython",
    "version": 3
   },
   "file_extension": ".py",
   "mimetype": "text/x-python",
   "name": "python",
   "nbconvert_exporter": "python",
   "pygments_lexer": "ipython3",
   "version": "3.9.12"
  }
 },
 "nbformat": 4,
 "nbformat_minor": 5
}
